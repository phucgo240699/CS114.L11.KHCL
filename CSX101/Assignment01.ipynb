{
  "nbformat": 4,
  "nbformat_minor": 0,
  "metadata": {
    "colab": {
      "name": "Assignment01.ipynb",
      "provenance": [],
      "collapsed_sections": []
    },
    "kernelspec": {
      "name": "python3",
      "display_name": "Python 3"
    }
  },
  "cells": [
    {
      "cell_type": "markdown",
      "metadata": {
        "id": "Ke-JwyAHrryQ"
      },
      "source": [
        "**1. BÀI KIỂM TRA**\n"
      ]
    },
    {
      "cell_type": "code",
      "metadata": {
        "id": "hwSquyiYfdAC"
      },
      "source": [
        "n = int(input())\n",
        "k = int(input())\n",
        "p = int(input())\n",
        "q = int(input())\n",
        "\n",
        "vt_Bob = 2 * (p - 1) + q\n",
        "if vt_Bob - k < 1 and n < vt_Bob + k:\n",
        "  print(-1)\n",
        "else:\n",
        "  if vt_Bob - k >= 1:\n",
        "    vt_Alice = vt_Bob - k\n",
        "  elif vt_Bob + k <= n:\n",
        "    vt_Alice = vt_Bob + k\n",
        "  u = (vt_Alice - 1) // 2 + 1\n",
        "  v = vt_Alice - 2 * (u - 1)\n",
        "  print(u,v) \n",
        "  "
      ],
      "execution_count": null,
      "outputs": []
    },
    {
      "cell_type": "markdown",
      "metadata": {
        "id": "pyjOw400ryyp"
      },
      "source": [
        "**2. GÀ VÀ CHÓ**"
      ]
    },
    {
      "cell_type": "code",
      "metadata": {
        "id": "ha8Zw1ZpfeZl"
      },
      "source": [
        "xxx, yy = input().split()\n",
        "x = 2 * int(xxx) - int(int(yy)/2)\n",
        "y = int(xxx) - x\n",
        "print(x,y)"
      ],
      "execution_count": null,
      "outputs": []
    },
    {
      "cell_type": "markdown",
      "metadata": {
        "id": "Homl31Ejr120"
      },
      "source": [
        "**3. THANG ĐO NHIỆT**"
      ]
    },
    {
      "cell_type": "code",
      "metadata": {
        "id": "mMZRWrEIfekg"
      },
      "source": [
        "from decimal import *\n",
        "\n",
        "F = float(input())\n",
        "C = (F - 32) / 1.8\n",
        "K = (F - 32) / 1.8 + 273.15\n",
        "getcontext().prec = 6\n",
        "print(Decimal(C).normalize(),Decimal(K).normalize())"
      ],
      "execution_count": null,
      "outputs": []
    },
    {
      "cell_type": "markdown",
      "metadata": {
        "id": "lZgsHy9Mr6CQ"
      },
      "source": [
        "**4. ĐƯỜNG SẮT TRÊN CAO**"
      ]
    },
    {
      "cell_type": "code",
      "metadata": {
        "id": "0WribHpcfev6"
      },
      "source": [
        "k, t = input().split()\n",
        "k, t = int(k), int(t)\n",
        "if (t // k) % 2 == 0:\n",
        "  print(t % k)\n",
        "else:\n",
        "  print(k - t % k)"
      ],
      "execution_count": null,
      "outputs": []
    },
    {
      "cell_type": "markdown",
      "metadata": {
        "id": "mvRZqvOZsJLz"
      },
      "source": [
        "**5. ĐO ĐỘ ÁP SUẤT**"
      ]
    },
    {
      "cell_type": "code",
      "metadata": {
        "id": "UIR9icDife63"
      },
      "source": [
        "from decimal import *\n",
        "\n",
        "psi = float(input())\n",
        "\n",
        "kgscm =  0.453592 / 2.54**2 * psi\n",
        "\n",
        "getcontext().prec = 6\n",
        "\n",
        "print(Decimal(kgscm).normalize())"
      ],
      "execution_count": null,
      "outputs": []
    },
    {
      "cell_type": "markdown",
      "metadata": {
        "id": "oMhYAdb3sP1x"
      },
      "source": [
        "**6. PHÂN LOẠI TAM GIÁC**"
      ]
    },
    {
      "cell_type": "code",
      "metadata": {
        "id": "h9eO0RrZffHS"
      },
      "source": [
        "a = int(input())\n",
        "b = int(input())\n",
        "c = int(input())\n",
        "if a + b > c and a + c > b and b + c > a:\n",
        "  p = (a+b+c)/2\n",
        "  s = round(pow(p*(p-a)*(p-b)*(p-c), 0.5),2)\n",
        "  if int(s) == s:\n",
        "    s = int(s)\n",
        "  if a**2 + b**2 == c**2 or c**2 + b**2 == a**2 or a**2 + c**2 == b**2:\n",
        "    print('Tam giac vuong, dien tich = {}'.format(s))\n",
        "  elif a == b or a == c or b == c:\n",
        "    if a == b and a == c:\n",
        "     print('Tam giac deu, dien tich = {}'.format(s))\n",
        "    else:\n",
        "      print('Tam giac can, dien tich = {}'.format(s)) \n",
        "  else:\n",
        "     print('Tam giac thuong, dien tich = {}'.format(s))\n",
        "else:\n",
        "  print('Khong phai tam giac')"
      ],
      "execution_count": null,
      "outputs": []
    },
    {
      "cell_type": "markdown",
      "metadata": {
        "id": "Cx2fPa2YsX7v"
      },
      "source": [
        "**7. SỐ FIBONACI**"
      ]
    },
    {
      "cell_type": "code",
      "metadata": {
        "id": "vMvzQ37rffVb"
      },
      "source": [
        "n = int(input())\n",
        "if 1<=n and n<=30:\n",
        "  if n == 1 or n == 2:\n",
        "    print(1)\n",
        "  else:\n",
        "    pre_first = 1\n",
        "    pre_sencond = 1\n",
        "    x = int()\n",
        "    for i in range(3,n+1):\n",
        "      x = pre_first + pre_sencond\n",
        "      pre_first = pre_sencond\n",
        "      pre_sencond = x\n",
        "    print(x)\n",
        "else:\n",
        "  print('So {} khong nam trong khoang [1,30].'.format(n))"
      ],
      "execution_count": null,
      "outputs": []
    },
    {
      "cell_type": "markdown",
      "metadata": {
        "id": "MK1LrNZhsdi1"
      },
      "source": [
        "**8. TỔNG ƯỚC SỐ**"
      ]
    },
    {
      "cell_type": "code",
      "metadata": {
        "id": "4P07XZaLffhk"
      },
      "source": [
        "n = int(input())\n",
        "s = 0\n",
        "for i in range(1, n):\n",
        "  if n % i == 0:\n",
        "    s = s + i\n",
        "print(s)"
      ],
      "execution_count": null,
      "outputs": []
    }
  ]
}