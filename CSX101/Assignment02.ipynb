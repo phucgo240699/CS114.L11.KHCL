{
  "nbformat": 4,
  "nbformat_minor": 0,
  "metadata": {
    "colab": {
      "name": "Assignment02.ipynb",
      "provenance": [],
      "collapsed_sections": []
    },
    "kernelspec": {
      "name": "python3",
      "display_name": "Python 3"
    }
  },
  "cells": [
    {
      "cell_type": "markdown",
      "metadata": {
        "id": "Jk9AAv9gu9AI"
      },
      "source": [
        "**1. MA TRẬN CỐT LÕI**"
      ]
    },
    {
      "cell_type": "code",
      "metadata": {
        "id": "DzGQKcowh-0d"
      },
      "source": [
        "# Ma tran cot loi \n",
        "\n",
        "pos = ['-1','-1']\n",
        "for i in range(0,5):\n",
        "  row = input().split()\n",
        "  for j in range(0, 5):\n",
        "    if row[j] == '1':\n",
        "      pos = [i, j]\n",
        "\n",
        "print(abs(pos[0]- 2) + abs(pos[1] -2))\n"
      ],
      "execution_count": null,
      "outputs": []
    },
    {
      "cell_type": "markdown",
      "metadata": {
        "id": "oZcKievYvBxH"
      },
      "source": [
        "**2. SỐ GẦN NHƯ MAY MẮN**"
      ]
    },
    {
      "cell_type": "code",
      "metadata": {
        "id": "_GEng4HpiQ7z"
      },
      "source": [
        "# So gan nhu may man\n",
        "\n",
        "n = input()\n",
        "count = 0\n",
        "for i in n:\n",
        "  if i == '4' or i == '7':\n",
        "    count = count + 1\n",
        "if count == 4 or count == 7:\n",
        "  print('YES')\n",
        "else:\n",
        "  print('NO')"
      ],
      "execution_count": null,
      "outputs": []
    },
    {
      "cell_type": "markdown",
      "metadata": {
        "id": "bF8Gz69CvKTN"
      },
      "source": [
        "**3. SỐ ARMSTRONG**"
      ]
    },
    {
      "cell_type": "code",
      "metadata": {
        "id": "uMq2gJJTiRGt"
      },
      "source": [
        "n = input()\n",
        "sum = 0\n",
        "k = len(n)\n",
        "for i in n:\n",
        "  sum = sum + int(i) ** k\n",
        "if sum == int(n):\n",
        "  print('True')\n",
        "else:\n",
        "  print('False')"
      ],
      "execution_count": null,
      "outputs": []
    },
    {
      "cell_type": "markdown",
      "metadata": {
        "id": "eLwBa_Mwvj6d"
      },
      "source": [
        "**4. BÁN HÀNG**"
      ]
    },
    {
      "cell_type": "code",
      "metadata": {
        "id": "3_mLctOZiRRO"
      },
      "source": [
        "def recommendCost(cost):\n",
        "  sum = 0\n",
        "  for i in cost:\n",
        "    sum = sum + int(i)\n",
        "  if sum % len(cost) == 0:\n",
        "    return int(sum / len(cost))\n",
        "  else:\n",
        "    return sum // len(cost) + 1\n",
        "\n",
        "numTestCase = int(input())\n",
        "result = []\n",
        "for i in range(numTestCase):\n",
        "  n = int(input())\n",
        "  cost = input().split()\n",
        "  result.append(recommendCost(cost))\n",
        "\n",
        "for i in result:\n",
        "  print(i)"
      ],
      "execution_count": null,
      "outputs": []
    },
    {
      "cell_type": "markdown",
      "metadata": {
        "id": "Yak_ReV6vp-c"
      },
      "source": [
        "**5. RÚT GỌN PHÂN SỐ**"
      ]
    },
    {
      "cell_type": "code",
      "metadata": {
        "id": "QZ8wFpEgiRav"
      },
      "source": [
        "# Rút gọn phân số\n",
        "\n",
        "def ucln(a, b):\n",
        "  a, b = abs(a), abs(b)\n",
        "  while( a* b != 0):\n",
        "    if a> b:\n",
        "      a = a%b\n",
        "    else:\n",
        "      b = b%a\n",
        "  return a + b\n",
        "\n",
        "result =[]\n",
        "n = input()\n",
        "for i in range(int(n)):\n",
        "  a, b = input().split()\n",
        "  a, b = int(a), int(b)\n",
        "  r = ucln(a, b)\n",
        "  a, b = a // r, b //r\n",
        "\n",
        "  if int(b) == 1:\n",
        "    temp = str(a)\n",
        "  else:\n",
        "    temp = str(a)+' '+str(b)\n",
        "  result.append(temp)\n",
        "\n",
        "for i in result:\n",
        "  print(i)"
      ],
      "execution_count": null,
      "outputs": []
    },
    {
      "cell_type": "markdown",
      "metadata": {
        "id": "FTuCmpAJvuL4"
      },
      "source": [
        "**6. DƯA HẤU**"
      ]
    },
    {
      "cell_type": "code",
      "metadata": {
        "id": "BJt3Bce6iRkL"
      },
      "source": [
        "nKg = int(input())\n",
        "if nKg >= 4 and nKg % 2 == 0:\n",
        "  print('YES')\n",
        "else:\n",
        "  print('NO')"
      ],
      "execution_count": null,
      "outputs": []
    },
    {
      "cell_type": "markdown",
      "metadata": {
        "id": "7p5wedIjvzdr"
      },
      "source": [
        "**7. RẠP PHIM**"
      ]
    },
    {
      "cell_type": "code",
      "metadata": {
        "id": "oBEVq34siRsR"
      },
      "source": [
        "def roundUP(x, a):\n",
        "  if x % a == 0:\n",
        "    return x // a\n",
        "  else:\n",
        "    return x // a + 1\n",
        "n, m, a = input().split()\n",
        "n, m, a = int(n), int(m), int(a)\n",
        "k = roundUP(n, a) * roundUP(m, a)\n",
        "print(k)"
      ],
      "execution_count": null,
      "outputs": []
    },
    {
      "cell_type": "markdown",
      "metadata": {
        "id": "TD6BDwfcv4mI"
      },
      "source": [
        "**8. XẾP QUE DIÊM**"
      ]
    },
    {
      "cell_type": "code",
      "metadata": {
        "id": "DZ6nNtWRiSWp"
      },
      "source": [
        "def min_k(n):\n",
        "  if n <= 2:\n",
        "    return 4 - n\n",
        "  else:\n",
        "    if n % 2 == 0:\n",
        "      return 0\n",
        "    else:\n",
        "      return 1\n",
        "\n",
        "result = []\n",
        "q = int(input())\n",
        "for i in range(q):\n",
        "  n = int(input())\n",
        "  result.append(min_k(n))\n",
        "\n",
        "for i in result:\n",
        "  print(i)"
      ],
      "execution_count": null,
      "outputs": []
    }
  ]
}