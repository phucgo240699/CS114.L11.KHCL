{
  "nbformat": 4,
  "nbformat_minor": 0,
  "metadata": {
    "colab": {
      "name": "Assignment03.ipynb",
      "provenance": [],
      "collapsed_sections": []
    },
    "kernelspec": {
      "name": "python3",
      "display_name": "Python 3"
    }
  },
  "cells": [
    {
      "cell_type": "markdown",
      "metadata": {
        "id": "TbLiZQfSt6nw"
      },
      "source": [
        "**1. CHUỖI BẰNG NHAU**"
      ]
    },
    {
      "cell_type": "code",
      "metadata": {
        "id": "C1islNjgn1kn"
      },
      "source": [
        "n = int(input())\n",
        "result = []\n",
        "for k in range(n):\n",
        "  s = input()\n",
        "  t = input()\n",
        "  flag = False\n",
        "  for i in s:\n",
        "    if flag == False:\n",
        "      for j in t:\n",
        "        if i == j:\n",
        "          flag = True\n",
        "          break\n",
        "    else:\n",
        "      break\n",
        "\n",
        "  if flag == True:\n",
        "    result.append('YES')\n",
        "  else:\n",
        "    result.append('NO')\n",
        "\n",
        "for i in result:\n",
        "  print(i)"
      ],
      "execution_count": null,
      "outputs": []
    },
    {
      "cell_type": "markdown",
      "metadata": {
        "id": "dpbsEXFDuA7x"
      },
      "source": [
        "**2. CHUỖI CON CÂN BẰNG**"
      ]
    },
    {
      "cell_type": "code",
      "metadata": {
        "id": "qxliGlzaoAJp"
      },
      "source": [
        "n, k = input().split()\n",
        "n, k = int(n), int(k)\n",
        "st = input()\n",
        "\n",
        "flag = [0 for i in range(k)]\n",
        "\n",
        "for i in st:\n",
        "  flag[ord(i)-65] = flag[ord(i)-65] + 1\n",
        "\n",
        "min = n\n",
        "for i in flag:\n",
        "  if min > i:\n",
        "    min = i\n",
        "print(min * k)"
      ],
      "execution_count": null,
      "outputs": []
    },
    {
      "cell_type": "markdown",
      "metadata": {
        "id": "aErM270uuH_h"
      },
      "source": [
        "**3. TRỘM LAPTOP**"
      ]
    },
    {
      "cell_type": "code",
      "metadata": {
        "id": "4ZKgGc06oCrZ"
      },
      "source": [
        "\n",
        "n = int(input())\n",
        "laptops = input().split()\n",
        "min, max = int(laptops[0]), int(laptops[0])\n",
        "for i in laptops:\n",
        "  if int(i) > max:\n",
        "    max = int(i)\n",
        "  if int(i) < min:\n",
        "    min = int(i)\n",
        "  \n",
        "print(max - min + 1 - n)"
      ],
      "execution_count": null,
      "outputs": []
    },
    {
      "cell_type": "markdown",
      "metadata": {
        "id": "VZjWnPr0uLKY"
      },
      "source": [
        "**4. SỐ ĐIỆN THOẠI**"
      ]
    },
    {
      "cell_type": "code",
      "metadata": {
        "id": "BV6XCF8toF1X"
      },
      "source": [
        "n = int(input())\n",
        "st = input()\n",
        "max_n = n // 11\n",
        "count = 0\n",
        "for i in st:\n",
        "  if i == '8':\n",
        "    count = count + 1\n",
        "if count >= max_n:\n",
        "  print(max_n)\n",
        "else:\n",
        "  print(count)"
      ],
      "execution_count": null,
      "outputs": []
    },
    {
      "cell_type": "markdown",
      "metadata": {
        "id": "eQsuv6FluQ3D"
      },
      "source": [
        "**5. CUỘC ĐUA CỦA NHÀ VUA**"
      ]
    },
    {
      "cell_type": "code",
      "metadata": {
        "id": "3Fua7DhcoIpR"
      },
      "source": [
        "# input n size and the position of treasure\n",
        "n_size = int(input())\n",
        "pos = input().split()\n",
        "\n",
        "\n",
        "def short_distance(pos, king):\n",
        "  x_pos, y_pos = int(pos[0]), int(pos[1])\n",
        "  x_king, y_king = int(king[0]), int(king[1])\n",
        "\n",
        "  a, b = abs(x_pos - x_king), abs(y_pos - y_king)\n",
        "  if a <= b:\n",
        "    return b\n",
        "  else:\n",
        "    return a\n",
        "\n",
        "\n",
        "white = short_distance(pos, [1,1])\n",
        "black = short_distance(pos, [n_size, n_size])\n",
        "if white <= black:\n",
        "  print('White')\n",
        "else:\n",
        "  print('Black')"
      ],
      "execution_count": null,
      "outputs": []
    },
    {
      "cell_type": "markdown",
      "metadata": {
        "id": "Bt4kX9z3uWmR"
      },
      "source": [
        "**6. CUỘC THI**"
      ]
    },
    {
      "cell_type": "code",
      "metadata": {
        "id": "4Y7Pe1RooNMB"
      },
      "source": [
        "n, k = input().split()\n",
        "list_student = input().split()\n",
        "count = 0\n",
        "for i in list_student:\n",
        "  if int(i) > 0 and int(i) >= int(list_student[int(k) - 1]):\n",
        "    count = count + 1\n",
        "print(count)"
      ],
      "execution_count": null,
      "outputs": []
    },
    {
      "cell_type": "markdown",
      "metadata": {
        "id": "JC91Y_-GuqSV"
      },
      "source": [
        "**7. TRỘM DÃY**"
      ]
    },
    {
      "cell_type": "code",
      "metadata": {
        "id": "4KKKFtgroOxe"
      },
      "source": [
        "nA, nB = input().split()\n",
        "nA, nB = int(nA), int(nB)\n",
        "A = input().split()\n",
        "B = input().split()\n",
        "C = []\n",
        "i, j = 0, 0\n",
        "while i < nA and j < nB: \n",
        "  while(i < nA and j < nB and int(A[i]) <= int(B[j])):\n",
        "    C.append(A[i])\n",
        "    i = i + 1\n",
        "  while(i< nA and j < nB and int(B[j]) <= int(A[i])):\n",
        "    C.append(B[j])\n",
        "    j = j + 1\n",
        "\n",
        "while(i < nA):\n",
        "    C.append(A[i])\n",
        "    i = i + 1\n",
        "\n",
        "while(j < nB):\n",
        "    C.append(B[j])\n",
        "    j = j + 1\n",
        "\n",
        "for i in C:\n",
        "  print(i, end =' ')"
      ],
      "execution_count": null,
      "outputs": []
    },
    {
      "cell_type": "markdown",
      "metadata": {
        "id": "lUiWHUTIuu2_"
      },
      "source": [
        "**8. SỐ CÓ HẬU**"
      ]
    },
    {
      "cell_type": "code",
      "metadata": {
        "id": "93TqMl6YoS4d"
      },
      "source": [
        "n, m = input().split()\n",
        "n, m = int(n), int(m)\n",
        "k = (m - n) // 10 **len(str(n)) \n",
        "print(k + 1)"
      ],
      "execution_count": null,
      "outputs": []
    }
  ]
}