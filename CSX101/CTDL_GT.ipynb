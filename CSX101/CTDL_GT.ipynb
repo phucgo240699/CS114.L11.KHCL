{
  "nbformat": 4,
  "nbformat_minor": 0,
  "metadata": {
    "colab": {
      "name": "CTDL_GT.ipynb",
      "provenance": [],
      "collapsed_sections": []
    },
    "kernelspec": {
      "name": "python3",
      "display_name": "Python 3"
    }
  },
  "cells": [
    {
      "cell_type": "markdown",
      "metadata": {
        "id": "i6iuxOzqtmFn"
      },
      "source": [
        "**1. CHUỖI CON PALINDROME**"
      ]
    },
    {
      "cell_type": "code",
      "metadata": {
        "id": "4j4rOQ-ypkiy"
      },
      "source": [
        "def check_palindrome(stt):\n",
        "  for i in range(len(stt)//2):\n",
        "    if stt[i] != stt[len(stt)-1-i]:\n",
        "      return False\n",
        "  return True\n",
        "\n",
        "st = input()\n",
        "count = 0\n",
        "\n",
        "for i in range(len(st)):\n",
        "  for j in range(i, len(st)):\n",
        "    if check_palindrome(st[i:j+1]) == True:\n",
        "      count = count + 1\n",
        "    \n",
        "print(count)"
      ],
      "execution_count": null,
      "outputs": []
    },
    {
      "cell_type": "markdown",
      "metadata": {
        "id": "zvvzfVXAtuCt"
      },
      "source": [
        "**2. DÃY SỐ NGUYÊN**"
      ]
    },
    {
      "cell_type": "code",
      "metadata": {
        "id": "EhW_SfDupu2D"
      },
      "source": [
        "n = int(input())\n",
        "i = 0\n",
        "st =''\n",
        "while i < n:\n",
        "  i = i + 1\n",
        "  st = st + str(i)\n",
        "\n",
        "print(st[n-1])"
      ],
      "execution_count": null,
      "outputs": []
    },
    {
      "cell_type": "markdown",
      "metadata": {
        "id": "8mkbOgyHtz8-"
      },
      "source": [
        "**3. ONLINE GAME**"
      ]
    },
    {
      "cell_type": "code",
      "metadata": {
        "id": "xiJD17-mpxgM"
      },
      "source": [
        "# Online game\n",
        "\n",
        "arr = {None}\n",
        "n = input()\n",
        "while n!= '0':\n",
        "  status, id = n.split()\n",
        "  if status == '1':\n",
        "    arr.add(id)\n",
        "  else:\n",
        "    if id in arr:\n",
        "      print(1)\n",
        "    else:\n",
        "      print(0)\n",
        "  n = input()"
      ],
      "execution_count": null,
      "outputs": []
    }
  ]
}