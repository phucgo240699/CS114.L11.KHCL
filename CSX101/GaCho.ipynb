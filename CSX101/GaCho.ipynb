{
  "nbformat": 4,
  "nbformat_minor": 0,
  "metadata": {
    "colab": {
      "name": "GaCho.ipynb",
      "provenance": [],
      "collapsed_sections": []
    },
    "kernelspec": {
      "name": "python3",
      "display_name": "Python 3"
    }
  },
  "cells": [
    {
      "cell_type": "code",
      "metadata": {
        "id": "BUOnHDk4YUqA",
        "outputId": "bb298e0a-88fb-49c2-9adb-c1938d281298",
        "colab": {
          "base_uri": "https://localhost:8080/"
        }
      },
      "source": [
        "xxx, yy = input().split()\n",
        "x = 2 * int(xxx) - int(int(yy)/2)\n",
        "y = int(xxx) - x\n",
        "print(x,y)"
      ],
      "execution_count": 1,
      "outputs": [
        {
          "output_type": "stream",
          "text": [
            "5 12\n",
            "4 1\n"
          ],
          "name": "stdout"
        }
      ]
    }
  ]
}