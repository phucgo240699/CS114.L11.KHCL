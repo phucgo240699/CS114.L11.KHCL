{
  "nbformat": 4,
  "nbformat_minor": 0,
  "metadata": {
    "colab": {
      "name": "LinearRegression.ipynb",
      "provenance": [],
      "collapsed_sections": [],
      "authorship_tag": "ABX9TyPtH1WgkQds/+jhpKntwru/",
      "include_colab_link": true
    },
    "kernelspec": {
      "name": "python3",
      "display_name": "Python 3"
    }
  },
  "cells": [
    {
      "cell_type": "markdown",
      "metadata": {
        "id": "view-in-github",
        "colab_type": "text"
      },
      "source": [
        "<a href=\"https://colab.research.google.com/github/vantai-050101/CS114.L11.KHCL/blob/master/LinearRegression.ipynb\" target=\"_parent\"><img src=\"https://colab.research.google.com/assets/colab-badge.svg\" alt=\"Open In Colab\"/></a>"
      ]
    },
    {
      "cell_type": "code",
      "metadata": {
        "id": "_oUA9jWAq-RO",
        "outputId": "8f25b959-d239-4f25-fccd-ef7bd5c82efe",
        "colab": {
          "base_uri": "https://localhost:8080/",
          "height": 201
        }
      },
      "source": [
        "! wget https://cs.uit.edu.vn/data.txt"
      ],
      "execution_count": null,
      "outputs": [
        {
          "output_type": "stream",
          "text": [
            "--2020-10-18 13:52:19--  https://cs.uit.edu.vn/data.txt\n",
            "Resolving cs.uit.edu.vn (cs.uit.edu.vn)... 118.69.123.142\n",
            "Connecting to cs.uit.edu.vn (cs.uit.edu.vn)|118.69.123.142|:443... connected.\n",
            "HTTP request sent, awaiting response... 200 OK\n",
            "Length: 84410 (82K) [text/plain]\n",
            "Saving to: ‘data.txt’\n",
            "\n",
            "data.txt            100%[===================>]  82.43K  --.-KB/s    in 0.05s   \n",
            "\n",
            "2020-10-18 13:52:20 (1.62 MB/s) - ‘data.txt’ saved [84410/84410]\n",
            "\n"
          ],
          "name": "stdout"
        }
      ]
    },
    {
      "cell_type": "code",
      "metadata": {
        "id": "IwIcwm3DWdUF",
        "outputId": "2935ee48-84f0-4ed8-caee-698c9614083d",
        "colab": {
          "base_uri": "https://localhost:8080/",
          "height": 201
        }
      },
      "source": [
        "! wget https://cs.uit.edu.vn/data3.txt"
      ],
      "execution_count": null,
      "outputs": [
        {
          "output_type": "stream",
          "text": [
            "--2020-10-18 13:52:23--  https://cs.uit.edu.vn/data3.txt\n",
            "Resolving cs.uit.edu.vn (cs.uit.edu.vn)... 118.69.123.142\n",
            "Connecting to cs.uit.edu.vn (cs.uit.edu.vn)|118.69.123.142|:443... connected.\n",
            "HTTP request sent, awaiting response... 200 OK\n",
            "Length: 178891 (175K) [text/plain]\n",
            "Saving to: ‘data3.txt’\n",
            "\n",
            "data3.txt           100%[===================>] 174.70K  --.-KB/s    in 0.08s   \n",
            "\n",
            "2020-10-18 13:52:23 (2.15 MB/s) - ‘data3.txt’ saved [178891/178891]\n",
            "\n"
          ],
          "name": "stdout"
        }
      ]
    },
    {
      "cell_type": "code",
      "metadata": {
        "id": "n361q6UCzFjp",
        "outputId": "271b8324-2137-4208-8e11-7818296ab77d",
        "colab": {
          "base_uri": "https://localhost:8080/",
          "height": 134
        }
      },
      "source": [
        "!pip install matplotlib"
      ],
      "execution_count": null,
      "outputs": [
        {
          "output_type": "stream",
          "text": [
            "Requirement already satisfied: matplotlib in /usr/local/lib/python3.6/dist-packages (3.2.2)\n",
            "Requirement already satisfied: pyparsing!=2.0.4,!=2.1.2,!=2.1.6,>=2.0.1 in /usr/local/lib/python3.6/dist-packages (from matplotlib) (2.4.7)\n",
            "Requirement already satisfied: cycler>=0.10 in /usr/local/lib/python3.6/dist-packages (from matplotlib) (0.10.0)\n",
            "Requirement already satisfied: numpy>=1.11 in /usr/local/lib/python3.6/dist-packages (from matplotlib) (1.18.5)\n",
            "Requirement already satisfied: python-dateutil>=2.1 in /usr/local/lib/python3.6/dist-packages (from matplotlib) (2.8.1)\n",
            "Requirement already satisfied: kiwisolver>=1.0.1 in /usr/local/lib/python3.6/dist-packages (from matplotlib) (1.2.0)\n",
            "Requirement already satisfied: six in /usr/local/lib/python3.6/dist-packages (from cycler>=0.10->matplotlib) (1.15.0)\n"
          ],
          "name": "stdout"
        }
      ]
    },
    {
      "cell_type": "code",
      "metadata": {
        "id": "WHe_dcowsTQy",
        "outputId": "d6bb860e-9c0f-473f-da97-77e8b3688d51",
        "colab": {
          "base_uri": "https://localhost:8080/",
          "height": 579
        }
      },
      "source": [
        "import pandas as pd\n",
        "import numpy as np\n",
        "from sklearn import linear_model\n",
        "from matplotlib import pyplot as plt\n",
        "from sklearn.metrics import mean_squared_error, r2_score\n",
        "data = pd.read_csv('data3.txt', header = None)\n",
        "X = np.array(data[0]).reshape(-1, 1)\n",
        "y = np.array(data[1]).reshape(-1, 1)\n",
        "\n",
        "# data train, data test\n",
        "X_train, y_train = X[:5000], y[:5000]\n",
        "X_test, y_test = X[5000:], y[5000:]\n",
        "# init model train\n",
        "model = linear_model.LinearRegression()\n",
        "model.fit(X_train, y_train)\n",
        "\n",
        "\n",
        "#data = pd.read_csv('data.txt', header = None)\n",
        "#X = np.array(data[0]).reshape(-1, 1)\n",
        "#y = np.array(data[1]).reshape(-1, 1)\n",
        "\n",
        "# data train, data test\n",
        "#X_train, y_train = X[:5200], y[:5200]\n",
        "#X_test, y_test = X[5200:], y[5200:]\n",
        "\n",
        "result = model.predict(X_test)\n",
        "print(result)\n",
        "print(y_test)\n",
        "\n",
        "print('Coefficients: \\n', model.coef_)\n",
        "# The mean squared error\n",
        "print('Mean squared error: %.8f'\n",
        "      % mean_squared_error(X_test, result))\n",
        "# The coefficient of determination: 1 is perfect prediction\n",
        "print('Coefficient of determination: %.8f'\n",
        "      % r2_score(X_test, result))\n",
        "\n",
        "plt.scatter(X_train, y_train, color = 'blue')\n",
        "plt.plot(X_test, result, color = 'red')\n",
        "\n",
        "plt.scatter(X_test, y_test, color = 'yellow')\n",
        "plt.show()\n"
      ],
      "execution_count": null,
      "outputs": [
        {
          "output_type": "stream",
          "text": [
            "[[3.25106377]\n",
            " [2.01819736]\n",
            " [3.23086563]\n",
            " ...\n",
            " [2.96747725]\n",
            " [1.82927306]\n",
            " [1.84199471]]\n",
            "[[3.17724]\n",
            " [1.94981]\n",
            " [3.16509]\n",
            " ...\n",
            " [2.90918]\n",
            " [1.80292]\n",
            " [1.82795]]\n",
            "Coefficients: \n",
            " [[9.2709841e-08]]\n",
            "Mean squared error: 932021557110592.37500000\n",
            "Coefficient of determination: -27.36667241\n"
          ],
          "name": "stdout"
        },
        {
          "output_type": "display_data",
          "data": {
            "image/png": "[encoded data removed]",
            "text/plain": [
              "<Figure size 432x288 with 1 Axes>"
            ]
          },
          "metadata": {
            "tags": [],
            "needs_background": "light"
          }
        }
      ]
    },
    {
      "cell_type": "code",
      "metadata": {
        "id": "he3hAUBMpp70",
        "outputId": "051d9b7e-9b08-4387-8386-9eeb44a55b22",
        "colab": {
          "base_uri": "https://localhost:8080/",
          "height": 319
        }
      },
      "source": [
        "import matplotlib.pyplot as plt\n",
        "import numpy as np\n",
        "from sklearn import datasets, linear_model\n",
        "from sklearn.metrics import mean_squared_error, r2_score\n",
        "\n",
        "# Load the diabetes dataset\n",
        "#diabetes_X, diabetes_y = datasets.load_diabetes(return_X_y=True)\n",
        "data = pd.read_csv('data.txt', header = None)\n",
        "diabetes_X = np.array(data[0]).reshape(-1, 1)\n",
        "diabetes_y = np.array(data[1]).reshape(-1, 1)\n",
        "\n",
        "# Use only one feature\n",
        "#diabetes_X = diabetes_X[:, np.newaxis, 2]\n",
        "\n",
        "# Split the data into training/testing sets\n",
        "diabetes_X_train = diabetes_X[:-20]\n",
        "diabetes_X_test = diabetes_X[-20:]\n",
        "\n",
        "# Split the targets into training/testing sets\n",
        "diabetes_y_train = diabetes_y[:-20]\n",
        "diabetes_y_test = diabetes_y[-20:]\n",
        "\n",
        "# Create linear regression object\n",
        "regr = linear_model.LinearRegression()\n",
        "\n",
        "# Train the model using the training sets\n",
        "regr.fit(diabetes_X_train, diabetes_y_train)\n",
        "\n",
        "\n",
        "\n",
        "data = pd.read_csv('data3.txt', header = None)\n",
        "diabetes_X = np.array(data[0]).reshape(-1, 1)\n",
        "diabetes_y = np.array(data[1]).reshape(-1, 1)\n",
        "\n",
        "# Use only one feature\n",
        "#diabetes_X = diabetes_X[:, np.newaxis, 2]\n",
        "\n",
        "# Split the data into training/testing sets\n",
        "#diabetes_X_train = diabetes_X[:-20]\n",
        "diabetes_X_test = diabetes_X[-20:]\n",
        "\n",
        "# Split the targets into training/testing sets\n",
        "#diabetes_y_train = diabetes_y[:-20]\n",
        "diabetes_y_test = diabetes_y[-20:]\n",
        "\n",
        "\n",
        "# Make predictions using the testing set\n",
        "diabetes_y_pred = regr.predict(diabetes_X_test)\n",
        "\n",
        "# The coefficients\n",
        "print('Coefficients: \\n', regr.coef_)\n",
        "# The mean squared error\n",
        "print('Mean squared error: %.8f'\n",
        "      % mean_squared_error(diabetes_y_test, diabetes_y_pred))\n",
        "# The coefficient of determination: 1 is perfect prediction\n",
        "print('Coefficient of determination: %.8f'\n",
        "      % r2_score(diabetes_y_test, diabetes_y_pred))\n",
        "\n",
        "# Plot outputs\n",
        "plt.scatter(diabetes_X_train, diabetes_y_train,  color='yellow')\n",
        "plt.scatter(diabetes_X_test, diabetes_y_test,  color='black')\n",
        "plt.plot(diabetes_X_test, diabetes_y_pred, color='blue', linewidth=3)\n",
        "\n",
        "plt.xticks(())\n",
        "plt.yticks(())\n",
        "\n",
        "plt.show()"
      ],
      "execution_count": null,
      "outputs": [
        {
          "output_type": "stream",
          "text": [
            "Coefficients: \n",
            " [[2.84059305e-07]]\n",
            "Mean squared error: 32.25322334\n",
            "Coefficient of determination: -87.09048512\n"
          ],
          "name": "stdout"
        },
        {
          "output_type": "display_data",
          "data": {
            "image/png": "[encoded data removed]",
            "text/plain": [
              "<Figure size 432x288 with 1 Axes>"
            ]
          },
          "metadata": {
            "tags": []
          }
        }
      ]
    },
    {
      "cell_type": "code",
      "metadata": {
        "id": "o6SgNzm5-qPQ",
        "outputId": "2776e134-75ef-436a-9747-2568ba97e445",
        "colab": {
          "base_uri": "https://localhost:8080/",
          "height": 294
        }
      },
      "source": [
        "from sklearn import linear_model\n",
        "import pandas as pd\n",
        "import numpy as np\n",
        "import matplotlib.pyplot as plt\n",
        "from sklearn.metrics import r2_score\n",
        "\n",
        "dataset = pd.read_csv('data.txt', header = None)\n",
        "X, y = np.array(dataset[0]).reshape(-1, 1), np.array(dataset[1]).reshape(-1, 1)\n",
        "XTrain, XTest = X[:-200], X[-200:]\n",
        "yTrain, yTest = y[:-200], y[-200:]\n",
        "\n",
        "regr = linear_model.LinearRegression()\n",
        "#regr.fit(XTrain, yTrain)\n",
        "#R2_score = 0.9988807053087255\n",
        "dataset3 = pd.read_csv('data3.txt', header = None)\n",
        "X3, y3 = np.array(dataset3[0]).reshape(-1, 1), np.array(dataset3[1]).reshape(-1, 1)\n",
        "#XTest3 = X3[:200]\n",
        "#yTest3 = y3[:200]\n",
        "XTrain3, XTest3 = X3[:-200], X3[-200:]\n",
        "yTrain3, yTest3 = y3[:-200], y3[-200:]\n",
        "regr.fit(XTrain3, yTrain3)\n",
        "\n",
        "yPredict = regr.predict(XTest)\n",
        "print('R2_score = {}'.format(r2_score(yTest, yPredict)))\n",
        "plt.scatter(XTrain3.reshape(1, -1), yTrain3.reshape(1, -1), color = 'red')\n",
        "plt.plot(XTest, yPredict, color = 'yellow', linewidth = 1)\n",
        "plt.scatter(XTest.reshape(1, -1), yTest.reshape(1, -1), color = 'blue')\n",
        "plt.show()"
      ],
      "execution_count": null,
      "outputs": [
        {
          "output_type": "stream",
          "text": [
            "R2_score = -1.0113569331090813\n"
          ],
          "name": "stdout"
        },
        {
          "output_type": "display_data",
          "data": {
            "image/png": "[encoded data removed]",
            "text/plain": [
              "<Figure size 432x288 with 1 Axes>"
            ]
          },
          "metadata": {
            "tags": [],
            "needs_background": "light"
          }
        }
      ]
    },
    {
      "cell_type": "code",
      "metadata": {
        "id": "Q5YUzRCVI_ox",
        "outputId": "14f0e58f-e883-45c4-bd65-353dbb145ab4",
        "colab": {
          "base_uri": "https://localhost:8080/",
          "height": 319
        }
      },
      "source": [
        "import matplotlib.pyplot as plt\n",
        "import numpy as np\n",
        "from sklearn import datasets, linear_model\n",
        "from sklearn.metrics import mean_squared_error, r2_score\n",
        "\n",
        "# Load the diabetes dataset\n",
        "diabetes_X, diabetes_y = datasets.load_diabetes(return_X_y=True)\n",
        "\n",
        "# Use only one feature\n",
        "diabetes_X = diabetes_X[:, np.newaxis, 2]\n",
        "\n",
        "# Split the data into training/testing sets\n",
        "diabetes_X_train = diabetes_X[:-20]\n",
        "diabetes_X_test = diabetes_X[-20:]\n",
        "\n",
        "# Split the targets into training/testing sets\n",
        "diabetes_y_train = diabetes_y[:-20]\n",
        "diabetes_y_test = diabetes_y[-20:]\n",
        "\n",
        "# Create linear regression object\n",
        "regr = linear_model.LinearRegression()\n",
        "\n",
        "# Train the model using the training sets\n",
        "regr.fit(diabetes_X_train, diabetes_y_train)\n",
        "\n",
        "# Make predictions using the testing set\n",
        "diabetes_y_pred = regr.predict(diabetes_X_test)\n",
        "\n",
        "# The coefficients\n",
        "print('Coefficients: \\n', regr.coef_)\n",
        "# The mean squared error\n",
        "print('Mean squared error: %.2f'\n",
        "      % mean_squared_error(diabetes_y_test, diabetes_y_pred))\n",
        "# The coefficient of determination: 1 is perfect prediction\n",
        "print('Coefficient of determination: %.2f'\n",
        "      % r2_score(diabetes_y_test, diabetes_y_pred))\n",
        "\n",
        "# Plot outputs\n",
        "plt.scatter(diabetes_X_test, diabetes_y_test,  color='black')\n",
        "plt.plot(diabetes_X_test, diabetes_y_pred, color='blue', linewidth=3)\n",
        "\n",
        "plt.xticks(())\n",
        "plt.yticks(())\n",
        "\n",
        "plt.show()"
      ],
      "execution_count": null,
      "outputs": [
        {
          "output_type": "stream",
          "text": [
            "Coefficients: \n",
            " [938.23786125]\n",
            "Mean squared error: 2548.07\n",
            "Coefficient of determination: 0.47\n"
          ],
          "name": "stdout"
        },
        {
          "output_type": "display_data",
          "data": {
            "image/png": "[encoded data removed]",
            "text/plain": [
              "<Figure size 432x288 with 1 Axes>"
            ]
          },
          "metadata": {
            "tags": []
          }
        }
      ]
    }
  ]
}