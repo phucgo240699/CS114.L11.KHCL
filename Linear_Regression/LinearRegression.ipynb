{
  "nbformat": 4,
  "nbformat_minor": 0,
  "metadata": {
    "colab": {
      "name": "LinearRegression.ipynb",
      "provenance": [],
      "collapsed_sections": []
    },
    "kernelspec": {
      "name": "python3",
      "display_name": "Python 3"
    }
  },
  "cells": [
    {
      "cell_type": "markdown",
      "metadata": {
        "id": "UbNMl2PoEjEG"
      },
      "source": [
        "**LINEAR REGRESSION** \n",
        "\n"
      ]
    },
    {
      "cell_type": "markdown",
      "metadata": {
        "id": "Hg-Ew3AyCK-R"
      },
      "source": [
        "**1. Huấn luyện model và dự đoán kết quả với cùng 1 bộ dữ liệu**\n",
        "  + Tải về Colab file data.txt\n",
        "  + Chia file thành 2 tập dữ liệu là tập dữ liệu train và tập dữ liệu test\n",
        "  + Khởi tạo model Linear Regression và train model với tập dữ liệu train\n",
        "  + Sau khi kết thúc quá trình train, đưa tập dữ liệu test vào model để model đưa ra kết quả dự đoán \n",
        "  + Kiểm tra độ chính xác của model\n",
        "  + Visualize tập dữ liệu train-test và kết quả dự đoán của model"
      ]
    },
    {
      "cell_type": "code",
      "metadata": {
        "id": "_oUA9jWAq-RO",
        "outputId": "7c40c402-00f5-407b-e3eb-33a573bb9dac",
        "colab": {
          "base_uri": "https://localhost:8080/"
        }
      },
      "source": [
        "# download file data.txt\n",
        "! wget https://cs.uit.edu.vn/data.txt"
      ],
      "execution_count": 3,
      "outputs": [
        {
          "output_type": "stream",
          "text": [
            "--2020-11-15 13:35:29--  https://cs.uit.edu.vn/data.txt\n",
            "Resolving cs.uit.edu.vn (cs.uit.edu.vn)... 118.69.123.142\n",
            "Connecting to cs.uit.edu.vn (cs.uit.edu.vn)|118.69.123.142|:443... connected.\n",
            "HTTP request sent, awaiting response... 200 OK\n",
            "Length: 84410 (82K) [text/plain]\n",
            "Saving to: ‘data.txt’\n",
            "\n",
            "data.txt            100%[===================>]  82.43K   432KB/s    in 0.2s    \n",
            "\n",
            "2020-11-15 13:35:31 (432 KB/s) - ‘data.txt’ saved [84410/84410]\n",
            "\n"
          ],
          "name": "stdout"
        }
      ]
    },
    {
      "cell_type": "code",
      "metadata": {
        "id": "WHe_dcowsTQy",
        "outputId": "a7ba108a-058f-492d-b079-d7084f9e4037",
        "colab": {
          "base_uri": "https://localhost:8080/",
          "height": 362
        }
      },
      "source": [
        "# import library\n",
        "import pandas as pd\n",
        "import numpy as np\n",
        "from sklearn import linear_model\n",
        "from matplotlib import pyplot as plt\n",
        "from sklearn.metrics import mean_squared_error, r2_score\n",
        "\n",
        "#import data\n",
        "data = pd.read_csv('data.txt', header = None)\n",
        "X = np.array(data[0]).reshape(-1, 1)\n",
        "y = np.array(data[1]).reshape(-1, 1)\n",
        "print('Shape of data: ',data.shape)\n",
        "\n",
        "# split into data train and data test\n",
        "X_train, y_train = X[:5000], y[:5000]\n",
        "X_test, y_test = X[5000:], y[5000:]\n",
        "\n",
        "# init model train\n",
        "model = linear_model.LinearRegression()\n",
        "model.fit(X_train, y_train)\n",
        "\n",
        "# print result predict\n",
        "result = model.predict(X_test)\n",
        "\n",
        "# The coefficient\n",
        "print('Coefficients: \\n', model.coef_)\n",
        "# The mean squared error\n",
        "print('Mean squared error: %.8f'\n",
        "      % mean_squared_error(y_test, result))\n",
        "# The coefficient of determination: 1 is perfect prediction\n",
        "print('Coefficient of determination: %.8f'\n",
        "      % r2_score(y_test, result))\n",
        "\n",
        "# visualize data train with blue color\n",
        "plt.scatter(X_train, y_train, color = 'blue')\n",
        "\n",
        "# visualize data test with yellow color\n",
        "plt.scatter(X_test, y_test, color = 'yellow')\n",
        "\n",
        "# visualize the best predict line\n",
        "plt.plot(X_test, result, color = 'red')\n",
        "\n",
        "plt.show()\n"
      ],
      "execution_count": null,
      "outputs": [
        {
          "output_type": "stream",
          "text": [
            "Shape of data:  (5211, 2)\n",
            "Coefficients: \n",
            " [[2.83999193e-07]]\n",
            "Mean squared error: 0.00070150\n",
            "Coefficient of determination: 0.99889854\n"
          ],
          "name": "stdout"
        },
        {
          "output_type": "display_data",
          "data": {
            "image/png": "[encoded data removed]",
            "text/plain": [
              "<Figure size 432x288 with 1 Axes>"
            ]
          },
          "metadata": {
            "tags": [],
            "needs_background": "light"
          }
        }
      ]
    },
    {
      "cell_type": "markdown",
      "metadata": {
        "id": "vKp3hyJoEaUQ"
      },
      "source": [
        "**2. Huấn luyện model và dự đoán kết quả với không cùng 1 bộ dữ liệu**\n",
        "  + Tải về Colab file data.txt và data3.txt\n",
        "  + Dùng file data.txt để làm tập dữ liệu train và dùng file data3.txt để làm tập dữ liệu t\n",
        "  + Khởi tạo model Linear Regression và train model với tập dữ liệu train\n",
        "  + Sau khi kết thúc quá trình train, đưa tập dữ liệu test vào model để model đưa ra kết quả dự đoán tương ứng\n",
        "  + Kiểm tra độ chính xác của model\n",
        "  + Visualize tập dữ liệu train-test và kết quả dự đoán của model"
      ]
    },
    {
      "cell_type": "code",
      "metadata": {
        "id": "IwIcwm3DWdUF"
      },
      "source": [
        "# download file data3.txt\n",
        "! wget https://cs.uit.edu.vn/data3.txt"
      ],
      "execution_count": null,
      "outputs": []
    },
    {
      "cell_type": "code",
      "metadata": {
        "id": "ALA4ifqjG0J5",
        "outputId": "90f80e33-a1a8-4762-b1f1-6b6893efdce6",
        "colab": {
          "base_uri": "https://localhost:8080/",
          "height": 379
        }
      },
      "source": [
        "# import library\n",
        "import pandas as pd\n",
        "import numpy as np\n",
        "from sklearn import linear_model\n",
        "from matplotlib import pyplot as plt\n",
        "from sklearn.metrics import mean_squared_error, r2_score\n",
        "\n",
        "#import data train\n",
        "data = pd.read_csv('data.txt', header = None)\n",
        "X_train = np.array(data[0]).reshape(-1, 1)\n",
        "y_train = np.array(data[1]).reshape(-1, 1)\n",
        "print('Shape of data train: ',data.shape)\n",
        "\n",
        "#import data train\n",
        "data = pd.read_csv('data3.txt', header = None)\n",
        "X_test = np.array(data[0]).reshape(-1, 1)\n",
        "y_test = np.array(data[1]).reshape(-1, 1)\n",
        "print('Shape of data test: ',data.shape)\n",
        "\n",
        "# init model train\n",
        "model = linear_model.LinearRegression()\n",
        "model.fit(X_train, y_train)\n",
        "\n",
        "# print result predict\n",
        "result = model.predict(X_test)\n",
        "\n",
        "# The coefficient\n",
        "print('Coefficients: \\n', model.coef_)\n",
        "# The mean squared error\n",
        "print('Mean squared error: %.8f'\n",
        "      % mean_squared_error(y_test, result))\n",
        "# The coefficient of determination: 1 is perfect prediction\n",
        "print('Coefficient of determination: %.8f'\n",
        "      % r2_score(y_test, result))\n",
        "\n",
        "# visualize data train with blue color\n",
        "plt.scatter(X_train, y_train, color = 'blue')\n",
        "\n",
        "# visualize data test with yellow color\n",
        "plt.scatter(X_test, y_test, color = 'yellow')\n",
        "\n",
        "# visualize the best predict line\n",
        "plt.plot(X_test, result, color = 'red')\n",
        "\n",
        "plt.show()\n"
      ],
      "execution_count": 6,
      "outputs": [
        {
          "output_type": "stream",
          "text": [
            "Shape of data train:  (10590, 2)\n",
            "Shape of data test:  (5211, 2)\n",
            "Coefficients: \n",
            " [[9.27393464e-08]]\n",
            "Mean squared error: 1.39003467\n",
            "Coefficient of determination: -1.03848804\n"
          ],
          "name": "stdout"
        },
        {
          "output_type": "display_data",
          "data": {
            "image/png": "[encoded data removed]",
            "text/plain": [
              "<Figure size 432x288 with 1 Axes>"
            ]
          },
          "metadata": {
            "tags": [],
            "needs_background": "light"
          }
        }
      ]
    }
  ]
}