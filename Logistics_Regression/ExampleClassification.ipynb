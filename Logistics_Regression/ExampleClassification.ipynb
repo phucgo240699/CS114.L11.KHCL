{
  "nbformat": 4,
  "nbformat_minor": 0,
  "metadata": {
    "colab": {
      "name": "ExampleClassification.ipynb",
      "provenance": [],
      "authorship_tag": "ABX9TyOTKqX+//9UVItZ3zo3YRKe",
      "include_colab_link": true
    },
    "kernelspec": {
      "name": "python3",
      "display_name": "Python 3"
    }
  },
  "cells": [
    {
      "cell_type": "markdown",
      "metadata": {
        "id": "view-in-github",
        "colab_type": "text"
      },
      "source": [
        "<a href=\"https://colab.research.google.com/github/vantai-050101/CS114.L11.KHCL/blob/master/ExampleClassification.ipynb\" target=\"_parent\"><img src=\"https://colab.research.google.com/assets/colab-badge.svg\" alt=\"Open In Colab\"/></a>"
      ]
    },
    {
      "cell_type": "code",
      "metadata": {
        "id": "w3nJb1vFz8gQ"
      },
      "source": [
        "import pandas as pd\n",
        "from sklearn.linear_model import LogisticRegression\n",
        "import numpy as np\n",
        "import cv2\n",
        "import matplotlib.pyplot as plt\n",
        "\n",
        "data = pd.read_csv('D:\\\\Handwritten.csv')\n",
        "print(data)\n",
        "data_input = data.iloc[:, 1:].values\n",
        "label = data.iloc[:, 0].values\n",
        "\n",
        "model = LogisticRegression()\n",
        "model.fit(data_input, label)\n",
        "\n",
        "select = np.random.randint(low = 0, high = 372449, size = 5)\n",
        "\n",
        "z = model.predict(data_input[select])\n",
        "\n",
        "\n",
        "plt.imshow(np.array(data_input[select[0]]).reshape(28, 28))\n",
        "plt.show()\n",
        "print(z)\n",
        "\n",
        "\n"
      ],
      "execution_count": null,
      "outputs": []
    }
  ]
}